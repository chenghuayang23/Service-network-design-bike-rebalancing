{
 "cells": [
  {
   "cell_type": "code",
   "execution_count": 20,
   "metadata": {},
   "outputs": [],
   "source": [
    "import pandas as pd\n",
    "import numpy as np\n",
    "import random "
   ]
  },
  {
   "cell_type": "markdown",
   "metadata": {},
   "source": [
    "# Import raw data"
   ]
  },
  {
   "cell_type": "code",
   "execution_count": 21,
   "metadata": {},
   "outputs": [
    {
     "data": {
      "text/html": [
       "<div>\n",
       "<style scoped>\n",
       "    .dataframe tbody tr th:only-of-type {\n",
       "        vertical-align: middle;\n",
       "    }\n",
       "\n",
       "    .dataframe tbody tr th {\n",
       "        vertical-align: top;\n",
       "    }\n",
       "\n",
       "    .dataframe thead th {\n",
       "        text-align: right;\n",
       "    }\n",
       "</style>\n",
       "<table border=\"1\" class=\"dataframe\">\n",
       "  <thead>\n",
       "    <tr style=\"text-align: right;\">\n",
       "      <th></th>\n",
       "      <th>Zone</th>\n",
       "      <th>x-coordinate</th>\n",
       "      <th>y-coordinate</th>\n",
       "    </tr>\n",
       "  </thead>\n",
       "  <tbody>\n",
       "    <tr>\n",
       "      <th>0</th>\n",
       "      <td>0</td>\n",
       "      <td>0</td>\n",
       "      <td>1</td>\n",
       "    </tr>\n",
       "    <tr>\n",
       "      <th>1</th>\n",
       "      <td>1</td>\n",
       "      <td>0</td>\n",
       "      <td>2</td>\n",
       "    </tr>\n",
       "    <tr>\n",
       "      <th>2</th>\n",
       "      <td>2</td>\n",
       "      <td>1</td>\n",
       "      <td>1</td>\n",
       "    </tr>\n",
       "    <tr>\n",
       "      <th>3</th>\n",
       "      <td>3</td>\n",
       "      <td>1</td>\n",
       "      <td>0</td>\n",
       "    </tr>\n",
       "  </tbody>\n",
       "</table>\n",
       "</div>"
      ],
      "text/plain": [
       "   Zone  x-coordinate  y-coordinate\n",
       "0     0             0             1\n",
       "1     1             0             2\n",
       "2     2             1             1\n",
       "3     3             1             0"
      ]
     },
     "execution_count": 21,
     "metadata": {},
     "output_type": "execute_result"
    }
   ],
   "source": [
    "zone_coordinates = pd.read_csv('Data_SmallCase/Raw_Data_Process/zone_coordinates.csv')\n",
    "\n",
    "zone_coordinates"
   ]
  },
  {
   "cell_type": "markdown",
   "metadata": {},
   "source": [
    "# Generate model inputs"
   ]
  },
  {
   "cell_type": "markdown",
   "metadata": {},
   "source": [
    "## 1. OD distance matrix"
   ]
  },
  {
   "cell_type": "code",
   "execution_count": 22,
   "metadata": {},
   "outputs": [
    {
     "data": {
      "text/html": [
       "<div>\n",
       "<style scoped>\n",
       "    .dataframe tbody tr th:only-of-type {\n",
       "        vertical-align: middle;\n",
       "    }\n",
       "\n",
       "    .dataframe tbody tr th {\n",
       "        vertical-align: top;\n",
       "    }\n",
       "\n",
       "    .dataframe thead th {\n",
       "        text-align: right;\n",
       "    }\n",
       "</style>\n",
       "<table border=\"1\" class=\"dataframe\">\n",
       "  <thead>\n",
       "    <tr style=\"text-align: right;\">\n",
       "      <th></th>\n",
       "      <th>0</th>\n",
       "      <th>1</th>\n",
       "      <th>2</th>\n",
       "      <th>3</th>\n",
       "    </tr>\n",
       "  </thead>\n",
       "  <tbody>\n",
       "    <tr>\n",
       "      <th>0</th>\n",
       "      <td>0</td>\n",
       "      <td>1</td>\n",
       "      <td>1</td>\n",
       "      <td>1</td>\n",
       "    </tr>\n",
       "    <tr>\n",
       "      <th>1</th>\n",
       "      <td>1</td>\n",
       "      <td>0</td>\n",
       "      <td>1</td>\n",
       "      <td>2</td>\n",
       "    </tr>\n",
       "    <tr>\n",
       "      <th>2</th>\n",
       "      <td>1</td>\n",
       "      <td>1</td>\n",
       "      <td>0</td>\n",
       "      <td>1</td>\n",
       "    </tr>\n",
       "    <tr>\n",
       "      <th>3</th>\n",
       "      <td>1</td>\n",
       "      <td>2</td>\n",
       "      <td>1</td>\n",
       "      <td>0</td>\n",
       "    </tr>\n",
       "  </tbody>\n",
       "</table>\n",
       "</div>"
      ],
      "text/plain": [
       "   0  1  2  3\n",
       "0  0  1  1  1\n",
       "1  1  0  1  2\n",
       "2  1  1  0  1\n",
       "3  1  2  1  0"
      ]
     },
     "execution_count": 22,
     "metadata": {},
     "output_type": "execute_result"
    }
   ],
   "source": [
    "zone_list = zone_coordinates['Zone'].tolist()\n",
    "od_matrix = pd.DataFrame(index = zone_list, columns = zone_list)\n",
    "\n",
    "for i in range(len(zone_list)):\n",
    "    for j in range(len(zone_list)):\n",
    "        if i == j:\n",
    "            od_matrix.iloc[i,j] = 0\n",
    "        else:\n",
    "            # calculate the manhattan distance between two zones: |x1-x2|+|y1-y2|\n",
    "            x_diff= zone_coordinates.iloc[i,1]-zone_coordinates.iloc[j,1]\n",
    "            y_diff= zone_coordinates.iloc[i,2]-zone_coordinates.iloc[j,2]\n",
    "            # if the slope is negative, the distance is the maximum of the x_diff and y_diff\n",
    "            if x_diff * y_diff < 0:\n",
    "                distance = max(abs(x_diff), abs(y_diff))\n",
    "            else:\n",
    "                distance = abs(x_diff) + abs(y_diff)\n",
    "            od_matrix.iloc[i,j] = distance\n",
    "\n",
    "# save the od_matrix to a csv file\n",
    "od_matrix.to_csv('Data_MiddelCase/Model_Input/od_matrix.csv')\n",
    "\n",
    "# display the complete matrix without hiding any rows or columns\n",
    "pd.set_option('display.max_columns', len(od_matrix))\n",
    "od_matrix.head(5)"
   ]
  },
  {
   "cell_type": "markdown",
   "metadata": {},
   "source": [
    "## 2. Rental demand generation for a zone"
   ]
  },
  {
   "cell_type": "code",
   "execution_count": 23,
   "metadata": {},
   "outputs": [
    {
     "data": {
      "text/plain": [
       "[<matplotlib.lines.Line2D at 0x147b5f1d0>]"
      ]
     },
     "execution_count": 23,
     "metadata": {},
     "output_type": "execute_result"
    },
    {
     "data": {
      "image/png": "[encoded data removed]",
      "text/plain": [
       "<Figure size 640x480 with 1 Axes>"
      ]
     },
     "metadata": {},
     "output_type": "display_data"
    }
   ],
   "source": [
    "import random\n",
    "\n",
    "def generate_demand(peak_1, peak_2, low_demand, tot_period):\n",
    "    demand = []\n",
    "    \n",
    "    # Generate demand for the first 3/8 of total periods\n",
    "    for i in range(int(3/8 * tot_period)):\n",
    "        demand.append(random.randint(0, low_demand))\n",
    "    \n",
    "    # Generate demand for the next 1/8 of total periods increasing to peak_1\n",
    "    for i in range(int(3/8 * tot_period), int(1/2 * tot_period)):\n",
    "        demand.append(int(low_demand + ((peak_1 - low_demand) / (1/8 * tot_period)) * (i - (3/8 * tot_period))))\n",
    "    \n",
    "    # Generate demand for the next 1/8 of total periods decreasing to half of peak_1\n",
    "    for i in range(int(1/2 * tot_period), int(5/8 * tot_period)):\n",
    "        demand.append(int(peak_1 - ((peak_1 / (1/8 * tot_period)) * (i - (1/2 * tot_period)))))\n",
    "    \n",
    "    # Generate demand for the next 1/8 of total periods increasing to peak_2\n",
    "    for i in range(int(5/8 * tot_period), int(3/4 * tot_period)):\n",
    "        demand.append(int((peak_1 / 2) + ((peak_2 - (peak_1 / 2)) / (1/8 * tot_period)) * (i - (5/8 * tot_period))))\n",
    "    \n",
    "    # Generate demand for the remaining periods decreasing from peak_2 to 0\n",
    "    for i in range(int(3/4 * tot_period), tot_period):\n",
    "        demand.append(int(peak_2 - ((peak_2 / (1/4 * tot_period)) * (i - (3/4 * tot_period)))))\n",
    "    \n",
    "    return demand\n",
    "\n",
    "# Example usage:\n",
    "peak1 = 15\n",
    "peak2 = 20\n",
    "low_demand = 3\n",
    "total_periods = 24\n",
    "\n",
    "demand_pattern = generate_demand(peak1, peak2, low_demand, total_periods)\n",
    "\n",
    "import matplotlib.pyplot as plt\n",
    "plt.plot(demand_pattern)"
   ]
  },
  {
   "cell_type": "markdown",
   "metadata": {},
   "source": [
    "Generate random rental demand in each zone in each period"
   ]
  },
  {
   "cell_type": "code",
   "execution_count": 24,
   "metadata": {},
   "outputs": [],
   "source": [
    "zone_quantity = len(zone_coordinates)\n",
    "total_periods = 6\n",
    "\n",
    "# empty list to store the dataframes for each zone\n",
    "dfs = []    \n",
    "\n",
    "for i in range(zone_quantity):\n",
    "    df = pd.DataFrame(columns=[\"Zone\", \"Start Period\", \"Duration\", \"Number of Couriers\"])\n",
    "    df[\"Zone\"] = [i] * total_periods\n",
    "    df[\"Start Period\"] = list(range(total_periods))\n",
    "\n",
    "    # random number of couriers needed for each period\n",
    "    peak1 = random.randint(18, 22)\n",
    "    peak2 = random.randint(20, 24)\n",
    "    low_demand = random.randint(0,3)\n",
    "    df[\"Number of Couriers\"] = generate_demand(peak1, peak2, low_demand, total_periods)\n",
    "\n",
    "    # set random shift duration of between total_periods/8 and total_periods/4\n",
    "    df[\"Duration\"] = [0 if x == 0 else random.randint(int(total_periods/8), int(total_periods/4)) for x in df[\"Number of Couriers\"]]\n",
    "    dfs.append(df)  \n",
    "\n",
    "courier_schedule = pd.concat(dfs)"
   ]
  },
  {
   "cell_type": "markdown",
   "metadata": {},
   "source": [
    "Generate random return demand from couriers shcedule"
   ]
  },
  {
   "cell_type": "code",
   "execution_count": 25,
   "metadata": {},
   "outputs": [],
   "source": [
    "# mod 24 to get the hour of the day\n",
    "courier_schedule[\"Hour\"] = courier_schedule[\"Start Period\"] % total_periods"
   ]
  },
  {
   "cell_type": "code",
   "execution_count": 26,
   "metadata": {},
   "outputs": [],
   "source": [
    "courier_schedule[\"End Period\"] = (courier_schedule[\"Start Period\"] + courier_schedule[\"Duration\"]) % total_periods\n",
    "\n",
    "# create a dataframe to store the returning request of couriers\n",
    "returning = pd.DataFrame(columns=[\"Zone_id\", \"Period\", \"Return_request\"])\n",
    "returning[\"Zone_id\"] = courier_schedule[\"Zone\"]\n",
    "returning[\"Period\"] = courier_schedule[\"End Period\"]\n",
    "returning[\"Return_request\"] = courier_schedule[\"Number of Couriers\"] \n",
    "returning = returning.groupby([\"Zone_id\", \"Period\"]).sum().reset_index() # agreegate rows with the same \"Zone_id\" and \"Period\" \n",
    "\n",
    "demand = pd.DataFrame(columns=[\"Zone_id\", \"Period\", \"Rental\", \"Return\"])\n",
    "demand[\"Zone_id\"] = courier_schedule[\"Zone\"]\n",
    "demand[\"Period\"] = courier_schedule[\"Start Period\"] \n",
    "demand[\"Rental\"] = courier_schedule[\"Number of Couriers\"]\n",
    "demand[\"Return\"] = 0\n",
    "\n",
    "# # match \"Zone_id\" and \"Period\" in the df of demand and returning, if these two columns have the same value, add the value of the column \"Return_request\" in the df \"returning\" to column \"Return\" in the df \"demand\"\n",
    "for i in range(len(demand)):\n",
    "    for j in range(len(returning)):\n",
    "        if demand.iloc[i,0] == returning.iloc[j,0] and demand.iloc[i,1] == returning.iloc[j,1]:\n",
    "            demand.iloc[i,3] = demand.iloc[i,3] + returning.iloc[j,2]\n",
    "\n",
    "# add a column \"Pure Rental\" to the df \"demand\", which is the difference between the columns \"Rental\" and \"Return\", if the difference is negative, set it to 0\n",
    "demand[\"Pure Rental\"] = demand[\"Rental\"] - demand[\"Return\"]\n",
    "for i in range(len(demand)):\n",
    "    if demand.iloc[i,4] < 0:\n",
    "        demand.iloc[i,4] = 0\n",
    "\n",
    "# add a column \"Pure Return\" to the df \"demand\", which is the difference between the columns \"Return\" and \"Rental\", if the difference is negative, set it to 0\n",
    "demand[\"Pure Return\"] = demand[\"Return\"] - demand[\"Rental\"]\n",
    "for i in range(len(demand)):\n",
    "    if demand.iloc[i,5] < 0:\n",
    "        demand.iloc[i,5] = 0\n",
    "\n",
    "# remove the columns \"Rental\" and \"Return\" from the df \"demand\"\n",
    "demand = demand.drop([\"Rental\", \"Return\"], axis=1)\n",
    "\n",
    "# rename the column \"Pure Rental\" to \"Rental\" and the column \"Pure Return\" to \"Return\"\n",
    "demand = demand.rename(columns={\"Pure Rental\": \"Rental\", \"Pure Return\": \"Return\"})\n",
    "\n",
    "# check if there is any negative value in the column \"Rental\" and \"Return\", if there is, set it to 0\n",
    "for i in range(len(demand)):\n",
    "    if demand.iloc[i,1] < 0:\n",
    "        demand.iloc[i,1] = 0\n",
    "    if demand.iloc[i,2] < 0:\n",
    "        demand.iloc[i,2] = 0\n",
    "\n",
    "\n",
    "# export the demand dataframe to a csv file\n",
    "demand.to_csv(\"Data_SmallCase/Model_Input/demand.csv\", index=False)"
   ]
  },
  {
   "cell_type": "code",
   "execution_count": null,
   "metadata": {},
   "outputs": [],
   "source": []
  },
  {
   "cell_type": "code",
   "execution_count": null,
   "metadata": {},
   "outputs": [],
   "source": []
  }
 ],
 "metadata": {
  "kernelspec": {
   "display_name": "ethan",
   "language": "python",
   "name": "python3"
  },
  "language_info": {
   "codemirror_mode": {
    "name": "ipython",
    "version": 3
   },
   "file_extension": ".py",
   "mimetype": "text/x-python",
   "name": "python",
   "nbconvert_exporter": "python",
   "pygments_lexer": "ipython3",
   "version": "3.12.1"
  }
 },
 "nbformat": 4,
 "nbformat_minor": 2
}
